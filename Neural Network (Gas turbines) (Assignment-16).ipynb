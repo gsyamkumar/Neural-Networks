{
 "cells": [
  {
   "cell_type": "code",
   "execution_count": 48,
   "id": "6a30c7e8",
   "metadata": {
    "ExecuteTime": {
     "end_time": "2023-04-16T06:50:28.084581Z",
     "start_time": "2023-04-16T06:50:27.951938Z"
    }
   },
   "outputs": [],
   "source": [
    "#here we are importing iibraries\n",
    "import pandas as pd\n",
    "import numpy as np\n",
    "from matplotlib import pyplot as plt\n",
    "import seaborn as sns"
   ]
  },
  {
   "cell_type": "code",
   "execution_count": 49,
   "id": "73b36be0",
   "metadata": {
    "ExecuteTime": {
     "end_time": "2023-04-16T06:50:28.875318Z",
     "start_time": "2023-04-16T06:50:28.096550Z"
    }
   },
   "outputs": [],
   "source": [
    "#Loading Dataset(csv file)\n",
    "abc = pd.read_csv('gas_turbines.csv')"
   ]
  },
  {
   "cell_type": "code",
   "execution_count": 50,
   "id": "e943fe2c",
   "metadata": {
    "ExecuteTime": {
     "end_time": "2023-04-16T06:50:29.126713Z",
     "start_time": "2023-04-16T06:50:28.883300Z"
    }
   },
   "outputs": [
    {
     "data": {
      "text/html": [
       "<div>\n",
       "<style scoped>\n",
       "    .dataframe tbody tr th:only-of-type {\n",
       "        vertical-align: middle;\n",
       "    }\n",
       "\n",
       "    .dataframe tbody tr th {\n",
       "        vertical-align: top;\n",
       "    }\n",
       "\n",
       "    .dataframe thead th {\n",
       "        text-align: right;\n",
       "    }\n",
       "</style>\n",
       "<table border=\"1\" class=\"dataframe\">\n",
       "  <thead>\n",
       "    <tr style=\"text-align: right;\">\n",
       "      <th></th>\n",
       "      <th>AT</th>\n",
       "      <th>AP</th>\n",
       "      <th>AH</th>\n",
       "      <th>AFDP</th>\n",
       "      <th>GTEP</th>\n",
       "      <th>TIT</th>\n",
       "      <th>TAT</th>\n",
       "      <th>TEY</th>\n",
       "      <th>CDP</th>\n",
       "      <th>CO</th>\n",
       "      <th>NOX</th>\n",
       "    </tr>\n",
       "  </thead>\n",
       "  <tbody>\n",
       "    <tr>\n",
       "      <th>0</th>\n",
       "      <td>6.8594</td>\n",
       "      <td>1007.9</td>\n",
       "      <td>96.799</td>\n",
       "      <td>3.5000</td>\n",
       "      <td>19.663</td>\n",
       "      <td>1059.2</td>\n",
       "      <td>550.00</td>\n",
       "      <td>114.70</td>\n",
       "      <td>10.605</td>\n",
       "      <td>3.1547</td>\n",
       "      <td>82.722</td>\n",
       "    </tr>\n",
       "    <tr>\n",
       "      <th>1</th>\n",
       "      <td>6.7850</td>\n",
       "      <td>1008.4</td>\n",
       "      <td>97.118</td>\n",
       "      <td>3.4998</td>\n",
       "      <td>19.728</td>\n",
       "      <td>1059.3</td>\n",
       "      <td>550.00</td>\n",
       "      <td>114.72</td>\n",
       "      <td>10.598</td>\n",
       "      <td>3.2363</td>\n",
       "      <td>82.776</td>\n",
       "    </tr>\n",
       "    <tr>\n",
       "      <th>2</th>\n",
       "      <td>6.8977</td>\n",
       "      <td>1008.8</td>\n",
       "      <td>95.939</td>\n",
       "      <td>3.4824</td>\n",
       "      <td>19.779</td>\n",
       "      <td>1059.4</td>\n",
       "      <td>549.87</td>\n",
       "      <td>114.71</td>\n",
       "      <td>10.601</td>\n",
       "      <td>3.2012</td>\n",
       "      <td>82.468</td>\n",
       "    </tr>\n",
       "    <tr>\n",
       "      <th>3</th>\n",
       "      <td>7.0569</td>\n",
       "      <td>1009.2</td>\n",
       "      <td>95.249</td>\n",
       "      <td>3.4805</td>\n",
       "      <td>19.792</td>\n",
       "      <td>1059.6</td>\n",
       "      <td>549.99</td>\n",
       "      <td>114.72</td>\n",
       "      <td>10.606</td>\n",
       "      <td>3.1923</td>\n",
       "      <td>82.670</td>\n",
       "    </tr>\n",
       "    <tr>\n",
       "      <th>4</th>\n",
       "      <td>7.3978</td>\n",
       "      <td>1009.7</td>\n",
       "      <td>95.150</td>\n",
       "      <td>3.4976</td>\n",
       "      <td>19.765</td>\n",
       "      <td>1059.7</td>\n",
       "      <td>549.98</td>\n",
       "      <td>114.72</td>\n",
       "      <td>10.612</td>\n",
       "      <td>3.2484</td>\n",
       "      <td>82.311</td>\n",
       "    </tr>\n",
       "    <tr>\n",
       "      <th>...</th>\n",
       "      <td>...</td>\n",
       "      <td>...</td>\n",
       "      <td>...</td>\n",
       "      <td>...</td>\n",
       "      <td>...</td>\n",
       "      <td>...</td>\n",
       "      <td>...</td>\n",
       "      <td>...</td>\n",
       "      <td>...</td>\n",
       "      <td>...</td>\n",
       "      <td>...</td>\n",
       "    </tr>\n",
       "    <tr>\n",
       "      <th>15034</th>\n",
       "      <td>9.0301</td>\n",
       "      <td>1005.6</td>\n",
       "      <td>98.460</td>\n",
       "      <td>3.5421</td>\n",
       "      <td>19.164</td>\n",
       "      <td>1049.7</td>\n",
       "      <td>546.21</td>\n",
       "      <td>111.61</td>\n",
       "      <td>10.400</td>\n",
       "      <td>4.5186</td>\n",
       "      <td>79.559</td>\n",
       "    </tr>\n",
       "    <tr>\n",
       "      <th>15035</th>\n",
       "      <td>7.8879</td>\n",
       "      <td>1005.9</td>\n",
       "      <td>99.093</td>\n",
       "      <td>3.5059</td>\n",
       "      <td>19.414</td>\n",
       "      <td>1046.3</td>\n",
       "      <td>543.22</td>\n",
       "      <td>111.78</td>\n",
       "      <td>10.433</td>\n",
       "      <td>4.8470</td>\n",
       "      <td>79.917</td>\n",
       "    </tr>\n",
       "    <tr>\n",
       "      <th>15036</th>\n",
       "      <td>7.2647</td>\n",
       "      <td>1006.3</td>\n",
       "      <td>99.496</td>\n",
       "      <td>3.4770</td>\n",
       "      <td>19.530</td>\n",
       "      <td>1037.7</td>\n",
       "      <td>537.32</td>\n",
       "      <td>110.19</td>\n",
       "      <td>10.483</td>\n",
       "      <td>7.9632</td>\n",
       "      <td>90.912</td>\n",
       "    </tr>\n",
       "    <tr>\n",
       "      <th>15037</th>\n",
       "      <td>7.0060</td>\n",
       "      <td>1006.8</td>\n",
       "      <td>99.008</td>\n",
       "      <td>3.4486</td>\n",
       "      <td>19.377</td>\n",
       "      <td>1043.2</td>\n",
       "      <td>541.24</td>\n",
       "      <td>110.74</td>\n",
       "      <td>10.533</td>\n",
       "      <td>6.2494</td>\n",
       "      <td>93.227</td>\n",
       "    </tr>\n",
       "    <tr>\n",
       "      <th>15038</th>\n",
       "      <td>6.9279</td>\n",
       "      <td>1007.2</td>\n",
       "      <td>97.533</td>\n",
       "      <td>3.4275</td>\n",
       "      <td>19.306</td>\n",
       "      <td>1049.9</td>\n",
       "      <td>545.85</td>\n",
       "      <td>111.58</td>\n",
       "      <td>10.583</td>\n",
       "      <td>4.9816</td>\n",
       "      <td>92.498</td>\n",
       "    </tr>\n",
       "  </tbody>\n",
       "</table>\n",
       "<p>15039 rows × 11 columns</p>\n",
       "</div>"
      ],
      "text/plain": [
       "           AT      AP      AH    AFDP    GTEP     TIT     TAT     TEY     CDP  \\\n",
       "0      6.8594  1007.9  96.799  3.5000  19.663  1059.2  550.00  114.70  10.605   \n",
       "1      6.7850  1008.4  97.118  3.4998  19.728  1059.3  550.00  114.72  10.598   \n",
       "2      6.8977  1008.8  95.939  3.4824  19.779  1059.4  549.87  114.71  10.601   \n",
       "3      7.0569  1009.2  95.249  3.4805  19.792  1059.6  549.99  114.72  10.606   \n",
       "4      7.3978  1009.7  95.150  3.4976  19.765  1059.7  549.98  114.72  10.612   \n",
       "...       ...     ...     ...     ...     ...     ...     ...     ...     ...   \n",
       "15034  9.0301  1005.6  98.460  3.5421  19.164  1049.7  546.21  111.61  10.400   \n",
       "15035  7.8879  1005.9  99.093  3.5059  19.414  1046.3  543.22  111.78  10.433   \n",
       "15036  7.2647  1006.3  99.496  3.4770  19.530  1037.7  537.32  110.19  10.483   \n",
       "15037  7.0060  1006.8  99.008  3.4486  19.377  1043.2  541.24  110.74  10.533   \n",
       "15038  6.9279  1007.2  97.533  3.4275  19.306  1049.9  545.85  111.58  10.583   \n",
       "\n",
       "           CO     NOX  \n",
       "0      3.1547  82.722  \n",
       "1      3.2363  82.776  \n",
       "2      3.2012  82.468  \n",
       "3      3.1923  82.670  \n",
       "4      3.2484  82.311  \n",
       "...       ...     ...  \n",
       "15034  4.5186  79.559  \n",
       "15035  4.8470  79.917  \n",
       "15036  7.9632  90.912  \n",
       "15037  6.2494  93.227  \n",
       "15038  4.9816  92.498  \n",
       "\n",
       "[15039 rows x 11 columns]"
      ]
     },
     "execution_count": 50,
     "metadata": {},
     "output_type": "execute_result"
    }
   ],
   "source": [
    "abc"
   ]
  },
  {
   "cell_type": "markdown",
   "id": "b6924060",
   "metadata": {},
   "source": [
    "# Creating EDA & Visualization"
   ]
  },
  {
   "cell_type": "code",
   "execution_count": 51,
   "id": "9ef9c311",
   "metadata": {
    "ExecuteTime": {
     "end_time": "2023-04-16T06:50:29.270328Z",
     "start_time": "2023-04-16T06:50:29.138681Z"
    }
   },
   "outputs": [
    {
     "name": "stdout",
     "output_type": "stream",
     "text": [
      "<class 'pandas.core.frame.DataFrame'>\n",
      "RangeIndex: 15039 entries, 0 to 15038\n",
      "Data columns (total 11 columns):\n",
      " #   Column  Non-Null Count  Dtype  \n",
      "---  ------  --------------  -----  \n",
      " 0   AT      15039 non-null  float64\n",
      " 1   AP      15039 non-null  float64\n",
      " 2   AH      15039 non-null  float64\n",
      " 3   AFDP    15039 non-null  float64\n",
      " 4   GTEP    15039 non-null  float64\n",
      " 5   TIT     15039 non-null  float64\n",
      " 6   TAT     15039 non-null  float64\n",
      " 7   TEY     15039 non-null  float64\n",
      " 8   CDP     15039 non-null  float64\n",
      " 9   CO      15039 non-null  float64\n",
      " 10  NOX     15039 non-null  float64\n",
      "dtypes: float64(11)\n",
      "memory usage: 1.3 MB\n"
     ]
    }
   ],
   "source": [
    "abc.info()"
   ]
  },
  {
   "cell_type": "code",
   "execution_count": 52,
   "id": "f1395bc5",
   "metadata": {
    "ExecuteTime": {
     "end_time": "2023-04-16T06:50:29.794183Z",
     "start_time": "2023-04-16T06:50:29.274319Z"
    }
   },
   "outputs": [
    {
     "data": {
      "text/plain": [
       "AT      0\n",
       "AP      0\n",
       "AH      0\n",
       "AFDP    0\n",
       "GTEP    0\n",
       "TIT     0\n",
       "TAT     0\n",
       "TEY     0\n",
       "CDP     0\n",
       "CO      0\n",
       "NOX     0\n",
       "dtype: int64"
      ]
     },
     "execution_count": 52,
     "metadata": {},
     "output_type": "execute_result"
    }
   ],
   "source": [
    "abc.isna().sum()"
   ]
  },
  {
   "cell_type": "code",
   "execution_count": 53,
   "id": "ce6375b7",
   "metadata": {
    "ExecuteTime": {
     "end_time": "2023-04-16T06:50:30.088665Z",
     "start_time": "2023-04-16T06:50:29.800169Z"
    }
   },
   "outputs": [
    {
     "data": {
      "text/html": [
       "<div>\n",
       "<style scoped>\n",
       "    .dataframe tbody tr th:only-of-type {\n",
       "        vertical-align: middle;\n",
       "    }\n",
       "\n",
       "    .dataframe tbody tr th {\n",
       "        vertical-align: top;\n",
       "    }\n",
       "\n",
       "    .dataframe thead th {\n",
       "        text-align: right;\n",
       "    }\n",
       "</style>\n",
       "<table border=\"1\" class=\"dataframe\">\n",
       "  <thead>\n",
       "    <tr style=\"text-align: right;\">\n",
       "      <th></th>\n",
       "      <th>AT</th>\n",
       "      <th>AP</th>\n",
       "      <th>AH</th>\n",
       "      <th>AFDP</th>\n",
       "      <th>GTEP</th>\n",
       "      <th>TIT</th>\n",
       "      <th>TAT</th>\n",
       "      <th>TEY</th>\n",
       "      <th>CDP</th>\n",
       "      <th>CO</th>\n",
       "      <th>NOX</th>\n",
       "    </tr>\n",
       "  </thead>\n",
       "  <tbody>\n",
       "    <tr>\n",
       "      <th>count</th>\n",
       "      <td>15039.000000</td>\n",
       "      <td>15039.00000</td>\n",
       "      <td>15039.000000</td>\n",
       "      <td>15039.000000</td>\n",
       "      <td>15039.000000</td>\n",
       "      <td>15039.000000</td>\n",
       "      <td>15039.000000</td>\n",
       "      <td>15039.000000</td>\n",
       "      <td>15039.000000</td>\n",
       "      <td>15039.000000</td>\n",
       "      <td>15039.000000</td>\n",
       "    </tr>\n",
       "    <tr>\n",
       "      <th>mean</th>\n",
       "      <td>17.764381</td>\n",
       "      <td>1013.19924</td>\n",
       "      <td>79.124174</td>\n",
       "      <td>4.200294</td>\n",
       "      <td>25.419061</td>\n",
       "      <td>1083.798770</td>\n",
       "      <td>545.396183</td>\n",
       "      <td>134.188464</td>\n",
       "      <td>12.102353</td>\n",
       "      <td>1.972499</td>\n",
       "      <td>68.190934</td>\n",
       "    </tr>\n",
       "    <tr>\n",
       "      <th>std</th>\n",
       "      <td>7.574323</td>\n",
       "      <td>6.41076</td>\n",
       "      <td>13.793439</td>\n",
       "      <td>0.760197</td>\n",
       "      <td>4.173916</td>\n",
       "      <td>16.527806</td>\n",
       "      <td>7.866803</td>\n",
       "      <td>15.829717</td>\n",
       "      <td>1.103196</td>\n",
       "      <td>2.222206</td>\n",
       "      <td>10.470586</td>\n",
       "    </tr>\n",
       "    <tr>\n",
       "      <th>min</th>\n",
       "      <td>0.522300</td>\n",
       "      <td>985.85000</td>\n",
       "      <td>30.344000</td>\n",
       "      <td>2.087400</td>\n",
       "      <td>17.878000</td>\n",
       "      <td>1000.800000</td>\n",
       "      <td>512.450000</td>\n",
       "      <td>100.170000</td>\n",
       "      <td>9.904400</td>\n",
       "      <td>0.000388</td>\n",
       "      <td>27.765000</td>\n",
       "    </tr>\n",
       "    <tr>\n",
       "      <th>25%</th>\n",
       "      <td>11.408000</td>\n",
       "      <td>1008.90000</td>\n",
       "      <td>69.750000</td>\n",
       "      <td>3.723900</td>\n",
       "      <td>23.294000</td>\n",
       "      <td>1079.600000</td>\n",
       "      <td>542.170000</td>\n",
       "      <td>127.985000</td>\n",
       "      <td>11.622000</td>\n",
       "      <td>0.858055</td>\n",
       "      <td>61.303500</td>\n",
       "    </tr>\n",
       "    <tr>\n",
       "      <th>50%</th>\n",
       "      <td>18.186000</td>\n",
       "      <td>1012.80000</td>\n",
       "      <td>82.266000</td>\n",
       "      <td>4.186200</td>\n",
       "      <td>25.082000</td>\n",
       "      <td>1088.700000</td>\n",
       "      <td>549.890000</td>\n",
       "      <td>133.780000</td>\n",
       "      <td>12.025000</td>\n",
       "      <td>1.390200</td>\n",
       "      <td>66.601000</td>\n",
       "    </tr>\n",
       "    <tr>\n",
       "      <th>75%</th>\n",
       "      <td>23.862500</td>\n",
       "      <td>1016.90000</td>\n",
       "      <td>90.043500</td>\n",
       "      <td>4.550900</td>\n",
       "      <td>27.184000</td>\n",
       "      <td>1096.000000</td>\n",
       "      <td>550.060000</td>\n",
       "      <td>140.895000</td>\n",
       "      <td>12.578000</td>\n",
       "      <td>2.160400</td>\n",
       "      <td>73.935500</td>\n",
       "    </tr>\n",
       "    <tr>\n",
       "      <th>max</th>\n",
       "      <td>34.929000</td>\n",
       "      <td>1034.20000</td>\n",
       "      <td>100.200000</td>\n",
       "      <td>7.610600</td>\n",
       "      <td>37.402000</td>\n",
       "      <td>1100.800000</td>\n",
       "      <td>550.610000</td>\n",
       "      <td>174.610000</td>\n",
       "      <td>15.081000</td>\n",
       "      <td>44.103000</td>\n",
       "      <td>119.890000</td>\n",
       "    </tr>\n",
       "  </tbody>\n",
       "</table>\n",
       "</div>"
      ],
      "text/plain": [
       "                 AT           AP            AH          AFDP          GTEP  \\\n",
       "count  15039.000000  15039.00000  15039.000000  15039.000000  15039.000000   \n",
       "mean      17.764381   1013.19924     79.124174      4.200294     25.419061   \n",
       "std        7.574323      6.41076     13.793439      0.760197      4.173916   \n",
       "min        0.522300    985.85000     30.344000      2.087400     17.878000   \n",
       "25%       11.408000   1008.90000     69.750000      3.723900     23.294000   \n",
       "50%       18.186000   1012.80000     82.266000      4.186200     25.082000   \n",
       "75%       23.862500   1016.90000     90.043500      4.550900     27.184000   \n",
       "max       34.929000   1034.20000    100.200000      7.610600     37.402000   \n",
       "\n",
       "                TIT           TAT           TEY           CDP            CO  \\\n",
       "count  15039.000000  15039.000000  15039.000000  15039.000000  15039.000000   \n",
       "mean    1083.798770    545.396183    134.188464     12.102353      1.972499   \n",
       "std       16.527806      7.866803     15.829717      1.103196      2.222206   \n",
       "min     1000.800000    512.450000    100.170000      9.904400      0.000388   \n",
       "25%     1079.600000    542.170000    127.985000     11.622000      0.858055   \n",
       "50%     1088.700000    549.890000    133.780000     12.025000      1.390200   \n",
       "75%     1096.000000    550.060000    140.895000     12.578000      2.160400   \n",
       "max     1100.800000    550.610000    174.610000     15.081000     44.103000   \n",
       "\n",
       "                NOX  \n",
       "count  15039.000000  \n",
       "mean      68.190934  \n",
       "std       10.470586  \n",
       "min       27.765000  \n",
       "25%       61.303500  \n",
       "50%       66.601000  \n",
       "75%       73.935500  \n",
       "max      119.890000  "
      ]
     },
     "execution_count": 53,
     "metadata": {},
     "output_type": "execute_result"
    }
   ],
   "source": [
    "abc.describe()"
   ]
  },
  {
   "cell_type": "markdown",
   "id": "ef5a157d",
   "metadata": {},
   "source": [
    "# Correlation Matrix"
   ]
  },
  {
   "cell_type": "code",
   "execution_count": 54,
   "id": "cc4b6881",
   "metadata": {
    "ExecuteTime": {
     "end_time": "2023-04-16T06:50:36.811989Z",
     "start_time": "2023-04-16T06:50:30.092654Z"
    }
   },
   "outputs": [
    {
     "data": {
      "image/png": "[encoded data removed]",
      "text/plain": [
       "<Figure size 432x288 with 2 Axes>"
      ]
     },
     "metadata": {
      "needs_background": "light"
     },
     "output_type": "display_data"
    }
   ],
   "source": [
    "sns.heatmap(abc.corr(),annot = True)\n",
    "plt.show()"
   ]
  },
  {
   "cell_type": "code",
   "execution_count": 55,
   "id": "b8dd7594",
   "metadata": {
    "ExecuteTime": {
     "end_time": "2023-04-16T06:50:37.741849Z",
     "start_time": "2023-04-16T06:50:36.820964Z"
    }
   },
   "outputs": [
    {
     "data": {
      "image/png": "[encoded data removed]",
      "text/plain": [
       "<Figure size 432x288 with 1 Axes>"
      ]
     },
     "metadata": {
      "needs_background": "light"
     },
     "output_type": "display_data"
    }
   ],
   "source": [
    "import warnings\n",
    "warnings.filterwarnings('ignore')\n",
    "sns.distplot(abc.AT)\n",
    "plt.show()"
   ]
  },
  {
   "cell_type": "code",
   "execution_count": 56,
   "id": "ab745c92",
   "metadata": {
    "ExecuteTime": {
     "end_time": "2023-04-16T06:50:38.684942Z",
     "start_time": "2023-04-16T06:50:37.747834Z"
    }
   },
   "outputs": [
    {
     "data": {
      "image/png": "[encoded data removed]",
      "text/plain": [
       "<Figure size 432x288 with 1 Axes>"
      ]
     },
     "metadata": {
      "needs_background": "light"
     },
     "output_type": "display_data"
    }
   ],
   "source": [
    "sns.distplot(abc.AP)\n",
    "plt.show()"
   ]
  },
  {
   "cell_type": "code",
   "execution_count": 57,
   "id": "a6f42694",
   "metadata": {
    "ExecuteTime": {
     "end_time": "2023-04-16T06:50:39.541073Z",
     "start_time": "2023-04-16T06:50:38.687935Z"
    }
   },
   "outputs": [
    {
     "data": {
      "image/png": "[encoded data removed]",
      "text/plain": [
       "<Figure size 432x288 with 1 Axes>"
      ]
     },
     "metadata": {
      "needs_background": "light"
     },
     "output_type": "display_data"
    }
   ],
   "source": [
    "sns.distplot(abc.AH)\n",
    "plt.show()"
   ]
  },
  {
   "cell_type": "code",
   "execution_count": 58,
   "id": "d3e7025b",
   "metadata": {
    "ExecuteTime": {
     "end_time": "2023-04-16T06:50:40.517251Z",
     "start_time": "2023-04-16T06:50:39.546058Z"
    }
   },
   "outputs": [
    {
     "data": {
      "image/png": "[encoded data removed]",
      "text/plain": [
       "<Figure size 432x288 with 1 Axes>"
      ]
     },
     "metadata": {
      "needs_background": "light"
     },
     "output_type": "display_data"
    }
   ],
   "source": [
    "sns.distplot(abc.AFDP)\n",
    "plt.show()"
   ]
  },
  {
   "cell_type": "code",
   "execution_count": 59,
   "id": "84f16582",
   "metadata": {
    "ExecuteTime": {
     "end_time": "2023-04-16T06:50:41.770900Z",
     "start_time": "2023-04-16T06:50:40.522237Z"
    }
   },
   "outputs": [
    {
     "data": {
      "image/png": "[encoded data removed]",
      "text/plain": [
       "<Figure size 432x288 with 1 Axes>"
      ]
     },
     "metadata": {
      "needs_background": "light"
     },
     "output_type": "display_data"
    }
   ],
   "source": [
    "sns.distplot(abc.GTEP)\n",
    "plt.show()"
   ]
  },
  {
   "cell_type": "code",
   "execution_count": 60,
   "id": "a9a166bb",
   "metadata": {
    "ExecuteTime": {
     "end_time": "2023-04-16T06:50:47.681254Z",
     "start_time": "2023-04-16T06:50:41.780871Z"
    }
   },
   "outputs": [
    {
     "data": {
      "image/png": "[encoded data removed]",
      "text/plain": [
       "<Figure size 432x288 with 1 Axes>"
      ]
     },
     "metadata": {
      "needs_background": "light"
     },
     "output_type": "display_data"
    }
   ],
   "source": [
    "sns.distplot(abc.TIT)\n",
    "plt.show()"
   ]
  },
  {
   "cell_type": "code",
   "execution_count": 61,
   "id": "80281aa0",
   "metadata": {
    "ExecuteTime": {
     "end_time": "2023-04-16T06:50:48.370032Z",
     "start_time": "2023-04-16T06:50:47.690258Z"
    }
   },
   "outputs": [
    {
     "data": {
      "image/png": "[encoded data removed]",
      "text/plain": [
       "<Figure size 432x288 with 1 Axes>"
      ]
     },
     "metadata": {
      "needs_background": "light"
     },
     "output_type": "display_data"
    }
   ],
   "source": [
    "sns.distplot(abc.TAT)\n",
    "plt.show()"
   ]
  },
  {
   "cell_type": "code",
   "execution_count": 62,
   "id": "42a61e7d",
   "metadata": {
    "ExecuteTime": {
     "end_time": "2023-04-16T06:50:49.162025Z",
     "start_time": "2023-04-16T06:50:48.377884Z"
    }
   },
   "outputs": [
    {
     "data": {
      "image/png": "[encoded data removed]",
      "text/plain": [
       "<Figure size 432x288 with 1 Axes>"
      ]
     },
     "metadata": {
      "needs_background": "light"
     },
     "output_type": "display_data"
    }
   ],
   "source": [
    "sns.distplot(abc.TEY)\n",
    "plt.show()"
   ]
  },
  {
   "cell_type": "code",
   "execution_count": 63,
   "id": "7d061c31",
   "metadata": {
    "ExecuteTime": {
     "end_time": "2023-04-16T06:50:49.929953Z",
     "start_time": "2023-04-16T06:50:49.167013Z"
    }
   },
   "outputs": [
    {
     "data": {
      "image/png": "[encoded data removed]",
      "text/plain": [
       "<Figure size 432x288 with 1 Axes>"
      ]
     },
     "metadata": {
      "needs_background": "light"
     },
     "output_type": "display_data"
    }
   ],
   "source": [
    "sns.distplot(abc.CDP)\n",
    "plt.show()"
   ]
  },
  {
   "cell_type": "code",
   "execution_count": 64,
   "id": "2949ec93",
   "metadata": {
    "ExecuteTime": {
     "end_time": "2023-04-16T06:50:50.961427Z",
     "start_time": "2023-04-16T06:50:49.935935Z"
    }
   },
   "outputs": [
    {
     "data": {
      "image/png": "[encoded data removed]",
      "text/plain": [
       "<Figure size 432x288 with 1 Axes>"
      ]
     },
     "metadata": {
      "needs_background": "light"
     },
     "output_type": "display_data"
    }
   ],
   "source": [
    "sns.distplot(abc.CO)\n",
    "plt.show()"
   ]
  },
  {
   "cell_type": "code",
   "execution_count": 65,
   "id": "6a67f974",
   "metadata": {
    "ExecuteTime": {
     "end_time": "2023-04-16T06:50:52.094777Z",
     "start_time": "2023-04-16T06:50:50.961427Z"
    }
   },
   "outputs": [
    {
     "data": {
      "image/png": "[encoded data removed]",
      "text/plain": [
       "<Figure size 432x288 with 1 Axes>"
      ]
     },
     "metadata": {
      "needs_background": "light"
     },
     "output_type": "display_data"
    }
   ],
   "source": [
    "sns.distplot(abc.NOX)\n",
    "plt.show()"
   ]
  },
  {
   "cell_type": "markdown",
   "id": "42f9dfd9",
   "metadata": {},
   "source": [
    "# Independent and Dependent Variables"
   ]
  },
  {
   "cell_type": "code",
   "execution_count": 66,
   "id": "5e00229c",
   "metadata": {
    "ExecuteTime": {
     "end_time": "2023-04-16T06:50:52.148901Z",
     "start_time": "2023-04-16T06:50:52.094777Z"
    }
   },
   "outputs": [],
   "source": [
    "abc[\"TEy\"] = 1\n",
    "abc.loc[abc[\"TEY\"] > 135,\"TEy\"] = 2\n",
    "abc.drop([\"TEY\"],axis = 1,inplace = True)"
   ]
  },
  {
   "cell_type": "code",
   "execution_count": 67,
   "id": "a6ac61f7",
   "metadata": {
    "ExecuteTime": {
     "end_time": "2023-04-16T06:50:52.196464Z",
     "start_time": "2023-04-16T06:50:52.153889Z"
    }
   },
   "outputs": [],
   "source": [
    "x=np.array(abc.iloc[:,0:10])"
   ]
  },
  {
   "cell_type": "code",
   "execution_count": 68,
   "id": "689fa983",
   "metadata": {
    "ExecuteTime": {
     "end_time": "2023-04-16T06:50:52.236485Z",
     "start_time": "2023-04-16T06:50:52.205156Z"
    }
   },
   "outputs": [
    {
     "data": {
      "text/plain": [
       "array([[   6.8594, 1007.9   ,   96.799 , ...,   10.605 ,    3.1547,\n",
       "          82.722 ],\n",
       "       [   6.785 , 1008.4   ,   97.118 , ...,   10.598 ,    3.2363,\n",
       "          82.776 ],\n",
       "       [   6.8977, 1008.8   ,   95.939 , ...,   10.601 ,    3.2012,\n",
       "          82.468 ],\n",
       "       ...,\n",
       "       [   7.2647, 1006.3   ,   99.496 , ...,   10.483 ,    7.9632,\n",
       "          90.912 ],\n",
       "       [   7.006 , 1006.8   ,   99.008 , ...,   10.533 ,    6.2494,\n",
       "          93.227 ],\n",
       "       [   6.9279, 1007.2   ,   97.533 , ...,   10.583 ,    4.9816,\n",
       "          92.498 ]])"
      ]
     },
     "execution_count": 68,
     "metadata": {},
     "output_type": "execute_result"
    }
   ],
   "source": [
    "x"
   ]
  },
  {
   "cell_type": "code",
   "execution_count": 69,
   "id": "805c7cfe",
   "metadata": {
    "ExecuteTime": {
     "end_time": "2023-04-16T06:50:52.252443Z",
     "start_time": "2023-04-16T06:50:52.240476Z"
    }
   },
   "outputs": [],
   "source": [
    "y=np.array(abc.iloc[:,10])"
   ]
  },
  {
   "cell_type": "code",
   "execution_count": 70,
   "id": "876f133c",
   "metadata": {
    "ExecuteTime": {
     "end_time": "2023-04-16T06:50:52.323871Z",
     "start_time": "2023-04-16T06:50:52.289362Z"
    }
   },
   "outputs": [
    {
     "data": {
      "text/plain": [
       "array([1, 1, 1, ..., 1, 1, 1], dtype=int64)"
      ]
     },
     "execution_count": 70,
     "metadata": {},
     "output_type": "execute_result"
    }
   ],
   "source": [
    "y"
   ]
  },
  {
   "cell_type": "markdown",
   "id": "8d19d8b7",
   "metadata": {},
   "source": [
    "# Normalizing data"
   ]
  },
  {
   "cell_type": "code",
   "execution_count": 71,
   "id": "597dc774",
   "metadata": {
    "ExecuteTime": {
     "end_time": "2023-04-16T06:50:52.350833Z",
     "start_time": "2023-04-16T06:50:52.329854Z"
    }
   },
   "outputs": [],
   "source": [
    "from sklearn.model_selection import train_test_split\n",
    "def norm_func(i):\n",
    "    x = (i-i.min())/(i.max()-i.min())\n",
    "    return (x)"
   ]
  },
  {
   "cell_type": "code",
   "execution_count": 72,
   "id": "10ea6960",
   "metadata": {
    "ExecuteTime": {
     "end_time": "2023-04-16T06:50:52.386454Z",
     "start_time": "2023-04-16T06:50:52.354826Z"
    }
   },
   "outputs": [],
   "source": [
    "x_norm = norm_func(x)"
   ]
  },
  {
   "cell_type": "code",
   "execution_count": 73,
   "id": "1bb2be10",
   "metadata": {
    "ExecuteTime": {
     "end_time": "2023-04-16T06:50:52.417744Z",
     "start_time": "2023-04-16T06:50:52.386454Z"
    }
   },
   "outputs": [
    {
     "data": {
      "text/plain": [
       "array([[0.00623094, 0.9156068 , 0.08793482, ..., 0.00963355, 0.00286547,\n",
       "        0.07514684],\n",
       "       [0.00616335, 0.91606102, 0.08822461, ..., 0.00962719, 0.0029396 ,\n",
       "        0.0751959 ],\n",
       "       [0.00626573, 0.91642439, 0.08715357, ..., 0.00962992, 0.00290772,\n",
       "        0.0749161 ],\n",
       "       ...,\n",
       "       [0.00659912, 0.91415331, 0.09038485, ..., 0.00952273, 0.00723366,\n",
       "        0.08258689],\n",
       "       [0.00636411, 0.91460753, 0.08994154, ..., 0.00956815, 0.00567679,\n",
       "        0.0846899 ],\n",
       "       [0.00629316, 0.9149709 , 0.08860161, ..., 0.00961357, 0.00452509,\n",
       "        0.08402766]])"
      ]
     },
     "execution_count": 73,
     "metadata": {},
     "output_type": "execute_result"
    }
   ],
   "source": [
    "x_norm"
   ]
  },
  {
   "cell_type": "code",
   "execution_count": 74,
   "id": "4229d03b",
   "metadata": {
    "ExecuteTime": {
     "end_time": "2023-04-16T06:50:52.465614Z",
     "start_time": "2023-04-16T06:50:52.422729Z"
    }
   },
   "outputs": [],
   "source": [
    "# Splitting data\n",
    "x_train,x_test,y_train,y_test = train_test_split(x_norm,y, test_size = 0.2)"
   ]
  },
  {
   "cell_type": "markdown",
   "id": "0895c87e",
   "metadata": {},
   "source": [
    "# Neural Network"
   ]
  },
  {
   "cell_type": "code",
   "execution_count": 75,
   "id": "9c6e884f",
   "metadata": {
    "ExecuteTime": {
     "end_time": "2023-04-16T06:50:52.493808Z",
     "start_time": "2023-04-16T06:50:52.470600Z"
    }
   },
   "outputs": [],
   "source": [
    "import keras.models\n",
    "import tensorflow\n",
    "from tensorflow.keras.models import Sequential\n",
    "from keras.layers import Dense"
   ]
  },
  {
   "cell_type": "code",
   "execution_count": 76,
   "id": "e768aa13",
   "metadata": {
    "ExecuteTime": {
     "end_time": "2023-04-16T06:50:52.540666Z",
     "start_time": "2023-04-16T06:50:52.500772Z"
    }
   },
   "outputs": [],
   "source": [
    "model = Sequential()"
   ]
  },
  {
   "cell_type": "code",
   "execution_count": 77,
   "id": "ed3da448",
   "metadata": {
    "ExecuteTime": {
     "end_time": "2023-04-16T06:50:52.555630Z",
     "start_time": "2023-04-16T06:50:52.546652Z"
    }
   },
   "outputs": [
    {
     "data": {
      "text/plain": [
       "<keras.engine.sequential.Sequential at 0x1da78289430>"
      ]
     },
     "execution_count": 77,
     "metadata": {},
     "output_type": "execute_result"
    }
   ],
   "source": [
    "model"
   ]
  },
  {
   "cell_type": "code",
   "execution_count": 78,
   "id": "4a20aa1d",
   "metadata": {
    "ExecuteTime": {
     "end_time": "2023-04-16T06:50:52.586543Z",
     "start_time": "2023-04-16T06:50:52.570587Z"
    }
   },
   "outputs": [],
   "source": [
    "# fix random seed for reproducibility\n",
    "seed=7\n",
    "np.random.seed(seed)"
   ]
  },
  {
   "cell_type": "code",
   "execution_count": 79,
   "id": "f3e90067",
   "metadata": {
    "ExecuteTime": {
     "end_time": "2023-04-16T06:50:52.766454Z",
     "start_time": "2023-04-16T06:50:52.590533Z"
    }
   },
   "outputs": [],
   "source": [
    "model.add(Dense(8, input_dim = 10, kernel_initializer = 'uniform', activation = 'relu'))\n",
    "model.add(Dense(4,  kernel_initializer = 'uniform', activation = 'relu'))\n",
    "model.add(Dense(1,  kernel_initializer = 'uniform', activation = 'linear'))"
   ]
  },
  {
   "cell_type": "code",
   "execution_count": 80,
   "id": "ff756397",
   "metadata": {
    "ExecuteTime": {
     "end_time": "2023-04-16T06:50:52.814326Z",
     "start_time": "2023-04-16T06:50:52.771442Z"
    }
   },
   "outputs": [],
   "source": [
    "model.compile(loss = 'mse', optimizer = 'adam', metrics = ['accuracy'])"
   ]
  },
  {
   "cell_type": "code",
   "execution_count": 81,
   "id": "ba4939bd",
   "metadata": {
    "ExecuteTime": {
     "end_time": "2023-04-16T06:52:12.195406Z",
     "start_time": "2023-04-16T06:50:52.823301Z"
    }
   },
   "outputs": [
    {
     "name": "stdout",
     "output_type": "stream",
     "text": [
      "Epoch 1/20\n",
      "843/843 [==============================] - 7s 5ms/step - loss: 1.1083 - accuracy: 0.2364 - val_loss: 0.5607 - val_accuracy: 0.7028\n",
      "Epoch 2/20\n",
      "843/843 [==============================] - 4s 4ms/step - loss: 0.3584 - accuracy: 0.6993 - val_loss: 0.2417 - val_accuracy: 0.7028\n",
      "Epoch 3/20\n",
      "843/843 [==============================] - 4s 4ms/step - loss: 0.2205 - accuracy: 0.6993 - val_loss: 0.2096 - val_accuracy: 0.7028\n",
      "Epoch 4/20\n",
      "843/843 [==============================] - 4s 4ms/step - loss: 0.2105 - accuracy: 0.6993 - val_loss: 0.2089 - val_accuracy: 0.7028\n",
      "Epoch 5/20\n",
      "843/843 [==============================] - 4s 5ms/step - loss: 0.2103 - accuracy: 0.6993 - val_loss: 0.2090 - val_accuracy: 0.7028\n",
      "Epoch 6/20\n",
      "843/843 [==============================] - 4s 5ms/step - loss: 0.2104 - accuracy: 0.6993 - val_loss: 0.2090 - val_accuracy: 0.7028\n",
      "Epoch 7/20\n",
      "843/843 [==============================] - 4s 5ms/step - loss: 0.2103 - accuracy: 0.6993 - val_loss: 0.2091 - val_accuracy: 0.7028\n",
      "Epoch 8/20\n",
      "843/843 [==============================] - 4s 4ms/step - loss: 0.2104 - accuracy: 0.6993 - val_loss: 0.2089 - val_accuracy: 0.7028\n",
      "Epoch 9/20\n",
      "843/843 [==============================] - 4s 4ms/step - loss: 0.2104 - accuracy: 0.6993 - val_loss: 0.2089 - val_accuracy: 0.7028\n",
      "Epoch 10/20\n",
      "843/843 [==============================] - 4s 4ms/step - loss: 0.2103 - accuracy: 0.6993 - val_loss: 0.2089 - val_accuracy: 0.7028\n",
      "Epoch 11/20\n",
      "843/843 [==============================] - 4s 5ms/step - loss: 0.2103 - accuracy: 0.6993 - val_loss: 0.2095 - val_accuracy: 0.7028\n",
      "Epoch 12/20\n",
      "843/843 [==============================] - 4s 4ms/step - loss: 0.2104 - accuracy: 0.6993 - val_loss: 0.2090 - val_accuracy: 0.7028\n",
      "Epoch 13/20\n",
      "843/843 [==============================] - 4s 4ms/step - loss: 0.2104 - accuracy: 0.6993 - val_loss: 0.2089 - val_accuracy: 0.7028\n",
      "Epoch 14/20\n",
      "843/843 [==============================] - 4s 5ms/step - loss: 0.2103 - accuracy: 0.6993 - val_loss: 0.2089 - val_accuracy: 0.7028\n",
      "Epoch 15/20\n",
      "843/843 [==============================] - 3s 4ms/step - loss: 0.2104 - accuracy: 0.6993 - val_loss: 0.2089 - val_accuracy: 0.7028\n",
      "Epoch 16/20\n",
      "843/843 [==============================] - 4s 4ms/step - loss: 0.2104 - accuracy: 0.6993 - val_loss: 0.2089 - val_accuracy: 0.7028\n",
      "Epoch 17/20\n",
      "843/843 [==============================] - 4s 5ms/step - loss: 0.2104 - accuracy: 0.6993 - val_loss: 0.2089 - val_accuracy: 0.7028\n",
      "Epoch 18/20\n",
      "843/843 [==============================] - 4s 4ms/step - loss: 0.2103 - accuracy: 0.6993 - val_loss: 0.2089 - val_accuracy: 0.7028\n",
      "Epoch 19/20\n",
      "843/843 [==============================] - 3s 4ms/step - loss: 0.2104 - accuracy: 0.6993 - val_loss: 0.2089 - val_accuracy: 0.7028\n",
      "Epoch 20/20\n",
      "843/843 [==============================] - 4s 5ms/step - loss: 0.2104 - accuracy: 0.6993 - val_loss: 0.2089 - val_accuracy: 0.7028\n"
     ]
    },
    {
     "data": {
      "text/plain": [
       "<keras.callbacks.History at 0x1da708073a0>"
      ]
     },
     "execution_count": 81,
     "metadata": {},
     "output_type": "execute_result"
    }
   ],
   "source": [
    "model.fit(x_train,y_train, validation_split = 0.3, epochs = 20, batch_size = 10)"
   ]
  },
  {
   "cell_type": "code",
   "execution_count": 82,
   "id": "643f31d5",
   "metadata": {
    "ExecuteTime": {
     "end_time": "2023-04-16T06:52:13.887220Z",
     "start_time": "2023-04-16T06:52:12.200392Z"
    }
   },
   "outputs": [
    {
     "name": "stdout",
     "output_type": "stream",
     "text": [
      "376/376 [==============================] - 2s 3ms/step - loss: 0.2099 - accuracy: 0.7004\n"
     ]
    }
   ],
   "source": [
    "score = model.evaluate(x_train, y_train)"
   ]
  },
  {
   "cell_type": "code",
   "execution_count": 83,
   "id": "85f63c2e",
   "metadata": {
    "ExecuteTime": {
     "end_time": "2023-04-16T06:52:13.911269Z",
     "start_time": "2023-04-16T06:52:13.891208Z"
    }
   },
   "outputs": [
    {
     "data": {
      "text/plain": [
       "[0.20986200869083405, 0.7003574371337891]"
      ]
     },
     "execution_count": 83,
     "metadata": {},
     "output_type": "execute_result"
    }
   ],
   "source": [
    "score"
   ]
  },
  {
   "cell_type": "code",
   "execution_count": 84,
   "id": "b25fc8cb",
   "metadata": {
    "ExecuteTime": {
     "end_time": "2023-04-16T06:52:14.461231Z",
     "start_time": "2023-04-16T06:52:13.915258Z"
    }
   },
   "outputs": [
    {
     "name": "stdout",
     "output_type": "stream",
     "text": [
      "94/94 [==============================] - 0s 4ms/step - loss: 0.2042 - accuracy: 0.7144\n"
     ]
    }
   ],
   "source": [
    "scores = model.evaluate(x_test, y_test)"
   ]
  },
  {
   "cell_type": "code",
   "execution_count": 85,
   "id": "e21eef66",
   "metadata": {
    "ExecuteTime": {
     "end_time": "2023-04-16T06:52:14.483015Z",
     "start_time": "2023-04-16T06:52:14.462308Z"
    }
   },
   "outputs": [
    {
     "data": {
      "text/plain": [
       "[0.20416109263896942, 0.714428186416626]"
      ]
     },
     "execution_count": 85,
     "metadata": {},
     "output_type": "execute_result"
    }
   ],
   "source": [
    "scores"
   ]
  },
  {
   "cell_type": "markdown",
   "id": "5d12373c",
   "metadata": {},
   "source": [
    "# Visualise of Training History"
   ]
  },
  {
   "cell_type": "code",
   "execution_count": 86,
   "id": "2cf93d1f",
   "metadata": {
    "ExecuteTime": {
     "end_time": "2023-04-16T06:53:29.416363Z",
     "start_time": "2023-04-16T06:52:14.483015Z"
    }
   },
   "outputs": [
    {
     "name": "stdout",
     "output_type": "stream",
     "text": [
      "Epoch 1/20\n",
      "843/843 [==============================] - 3s 4ms/step - loss: 0.2104 - accuracy: 0.6993 - val_loss: 0.2090 - val_accuracy: 0.7028\n",
      "Epoch 2/20\n",
      "843/843 [==============================] - 4s 4ms/step - loss: 0.2104 - accuracy: 0.6993 - val_loss: 0.2089 - val_accuracy: 0.7028\n",
      "Epoch 3/20\n",
      "843/843 [==============================] - 3s 4ms/step - loss: 0.2104 - accuracy: 0.6993 - val_loss: 0.2089 - val_accuracy: 0.7028\n",
      "Epoch 4/20\n",
      "843/843 [==============================] - 4s 5ms/step - loss: 0.2104 - accuracy: 0.6993 - val_loss: 0.2089 - val_accuracy: 0.7028\n",
      "Epoch 5/20\n",
      "843/843 [==============================] - 4s 5ms/step - loss: 0.2104 - accuracy: 0.6993 - val_loss: 0.2089 - val_accuracy: 0.7028\n",
      "Epoch 6/20\n",
      "843/843 [==============================] - 4s 5ms/step - loss: 0.2103 - accuracy: 0.6993 - val_loss: 0.2089 - val_accuracy: 0.7028\n",
      "Epoch 7/20\n",
      "843/843 [==============================] - 4s 4ms/step - loss: 0.2103 - accuracy: 0.6993 - val_loss: 0.2089 - val_accuracy: 0.7028\n",
      "Epoch 8/20\n",
      "843/843 [==============================] - 4s 5ms/step - loss: 0.2104 - accuracy: 0.6993 - val_loss: 0.2089 - val_accuracy: 0.7028\n",
      "Epoch 9/20\n",
      "843/843 [==============================] - 4s 5ms/step - loss: 0.2104 - accuracy: 0.6993 - val_loss: 0.2090 - val_accuracy: 0.7028\n",
      "Epoch 10/20\n",
      "843/843 [==============================] - 4s 4ms/step - loss: 0.2104 - accuracy: 0.6993 - val_loss: 0.2089 - val_accuracy: 0.7028\n",
      "Epoch 11/20\n",
      "843/843 [==============================] - 4s 4ms/step - loss: 0.2104 - accuracy: 0.6993 - val_loss: 0.2089 - val_accuracy: 0.7028\n",
      "Epoch 12/20\n",
      "843/843 [==============================] - 4s 4ms/step - loss: 0.2104 - accuracy: 0.6993 - val_loss: 0.2089 - val_accuracy: 0.7028\n",
      "Epoch 13/20\n",
      "843/843 [==============================] - 4s 5ms/step - loss: 0.2104 - accuracy: 0.6993 - val_loss: 0.2089 - val_accuracy: 0.7028\n",
      "Epoch 14/20\n",
      "843/843 [==============================] - 4s 4ms/step - loss: 0.2103 - accuracy: 0.6993 - val_loss: 0.2092 - val_accuracy: 0.7028\n",
      "Epoch 15/20\n",
      "843/843 [==============================] - 4s 4ms/step - loss: 0.2104 - accuracy: 0.6993 - val_loss: 0.2089 - val_accuracy: 0.7028\n",
      "Epoch 16/20\n",
      "843/843 [==============================] - 4s 5ms/step - loss: 0.2103 - accuracy: 0.6993 - val_loss: 0.2091 - val_accuracy: 0.7028\n",
      "Epoch 17/20\n",
      "843/843 [==============================] - 4s 4ms/step - loss: 0.2104 - accuracy: 0.6993 - val_loss: 0.2089 - val_accuracy: 0.7028\n",
      "Epoch 18/20\n",
      "843/843 [==============================] - 4s 4ms/step - loss: 0.2104 - accuracy: 0.6993 - val_loss: 0.2090 - val_accuracy: 0.7028\n",
      "Epoch 19/20\n",
      "843/843 [==============================] - 4s 5ms/step - loss: 0.2103 - accuracy: 0.6993 - val_loss: 0.2091 - val_accuracy: 0.7028\n",
      "Epoch 20/20\n",
      "843/843 [==============================] - 4s 4ms/step - loss: 0.2104 - accuracy: 0.6993 - val_loss: 0.2089 - val_accuracy: 0.7028\n"
     ]
    }
   ],
   "source": [
    "history = model.fit(x_train,y_train, validation_split = 0.3, epochs = 20, batch_size = 10)"
   ]
  },
  {
   "cell_type": "code",
   "execution_count": 87,
   "id": "f7c10a9c",
   "metadata": {
    "ExecuteTime": {
     "end_time": "2023-04-16T06:53:29.445891Z",
     "start_time": "2023-04-16T06:53:29.422346Z"
    }
   },
   "outputs": [
    {
     "data": {
      "text/plain": [
       "dict_keys(['loss', 'accuracy', 'val_loss', 'val_accuracy'])"
      ]
     },
     "execution_count": 87,
     "metadata": {},
     "output_type": "execute_result"
    }
   ],
   "source": [
    "#list all data in history\n",
    "model.history.history.keys()"
   ]
  },
  {
   "cell_type": "markdown",
   "id": "44bfb96b",
   "metadata": {},
   "source": [
    "# History for Accuracy and Loss"
   ]
  },
  {
   "cell_type": "code",
   "execution_count": 88,
   "id": "cda16c36",
   "metadata": {
    "ExecuteTime": {
     "end_time": "2023-04-16T06:53:30.109011Z",
     "start_time": "2023-04-16T06:53:29.445891Z"
    }
   },
   "outputs": [
    {
     "data": {
      "image/png": "[encoded data removed]",
      "text/plain": [
       "<Figure size 432x288 with 1 Axes>"
      ]
     },
     "metadata": {
      "needs_background": "light"
     },
     "output_type": "display_data"
    }
   ],
   "source": [
    "plt.plot(history.history['accuracy'])\n",
    "plt.plot(history.history['val_accuracy'])\n",
    "plt.title('model accuracy')\n",
    "plt.ylabel('accuracy')\n",
    "plt.xlabel('epoch')\n",
    "plt.legend(['train','test'], loc = 'upper left')\n",
    "plt.show()"
   ]
  },
  {
   "cell_type": "code",
   "execution_count": 89,
   "id": "51f01378",
   "metadata": {
    "ExecuteTime": {
     "end_time": "2023-04-16T06:53:30.757923Z",
     "start_time": "2023-04-16T06:53:30.109011Z"
    }
   },
   "outputs": [
    {
     "data": {
      "image/png": "[encoded data removed]",
      "text/plain": [
       "<Figure size 432x288 with 1 Axes>"
      ]
     },
     "metadata": {
      "needs_background": "light"
     },
     "output_type": "display_data"
    }
   ],
   "source": [
    "plt.plot(history.history['loss'])\n",
    "plt.plot(history.history['val_loss'])\n",
    "plt.title('model loss')\n",
    "plt.ylabel('loss')\n",
    "plt.xlabel('epoch')\n",
    "plt.legend(['train','test'], loc = 'upper left')\n",
    "plt.show()"
   ]
  },
  {
   "cell_type": "markdown",
   "id": "d9706541",
   "metadata": {},
   "source": [
    "# Tuning of Hyperparameter "
   ]
  },
  {
   "cell_type": "code",
   "execution_count": 90,
   "id": "93a2f8c8",
   "metadata": {
    "ExecuteTime": {
     "end_time": "2023-04-16T06:53:30.809756Z",
     "start_time": "2023-04-16T06:53:30.761912Z"
    }
   },
   "outputs": [],
   "source": [
    "from sklearn.model_selection import GridSearchCV, KFold\n",
    "from keras.wrappers.scikit_learn import KerasClassifier\n",
    "from keras.optimizers import Adam\n",
    "from tensorflow.keras.models import load_model"
   ]
  },
  {
   "cell_type": "code",
   "execution_count": 91,
   "id": "0a785e71",
   "metadata": {
    "ExecuteTime": {
     "end_time": "2023-04-16T06:53:30.830488Z",
     "start_time": "2023-04-16T06:53:30.814741Z"
    }
   },
   "outputs": [],
   "source": [
    "def create_model():\n",
    "    model = Sequential()\n",
    "    model.add(Dense(12, input_dim = 10, kernel_initializer = 'uniform', activation = 'relu'))\n",
    "    model.add(Dense(8,  kernel_initializer = 'uniform', activation = 'relu'))\n",
    "    model.add(Dense(1,  kernel_initializer = 'uniform', activation = 'linear'))\n",
    "    \n",
    "    adam = Adam(lr = 0.01)\n",
    "    model.compile(loss = 'mse', optimizer = adam, metrics = ['accuracy'])\n",
    "    return model"
   ]
  },
  {
   "cell_type": "code",
   "execution_count": 92,
   "id": "50276ac6",
   "metadata": {
    "ExecuteTime": {
     "end_time": "2023-04-16T06:53:30.854515Z",
     "start_time": "2023-04-16T06:53:30.830488Z"
    }
   },
   "outputs": [
    {
     "data": {
      "text/plain": [
       "<keras.wrappers.scikit_learn.KerasClassifier at 0x1da72efe4c0>"
      ]
     },
     "execution_count": 92,
     "metadata": {},
     "output_type": "execute_result"
    }
   ],
   "source": [
    "model_1 = KerasClassifier(build_fn = create_model,verbose = 0)\n",
    "model_1"
   ]
  },
  {
   "cell_type": "code",
   "execution_count": 93,
   "id": "9b695962",
   "metadata": {
    "ExecuteTime": {
     "end_time": "2023-04-16T06:53:30.872144Z",
     "start_time": "2023-04-16T06:53:30.856769Z"
    }
   },
   "outputs": [],
   "source": [
    "batch_size = [10,20,40]\n",
    "epochs = [10,50,100]\n",
    "param_grid = dict(batch_size = batch_size,epochs = epochs)"
   ]
  },
  {
   "cell_type": "code",
   "execution_count": null,
   "id": "2cdeef02",
   "metadata": {
    "ExecuteTime": {
     "start_time": "2023-04-16T06:50:28.248Z"
    }
   },
   "outputs": [
    {
     "name": "stdout",
     "output_type": "stream",
     "text": [
      "Fitting 5 folds for each of 9 candidates, totalling 45 fits\n",
      "[CV 1/5] END ..........batch_size=10, epochs=10;, score=0.877 total time=  27.7s\n",
      "[CV 2/5] END ..........batch_size=10, epochs=10;, score=0.695 total time=  25.9s\n",
      "[CV 3/5] END ..........batch_size=10, epochs=10;, score=0.943 total time=  25.7s\n",
      "[CV 4/5] END ..........batch_size=10, epochs=10;, score=0.713 total time=  22.9s\n",
      "[CV 5/5] END ..........batch_size=10, epochs=10;, score=0.946 total time=  22.4s\n",
      "[CV 1/5] END ..........batch_size=10, epochs=50;, score=0.960 total time= 2.4min\n",
      "[CV 2/5] END ..........batch_size=10, epochs=50;, score=0.923 total time= 2.3min\n",
      "[CV 3/5] END ..........batch_size=10, epochs=50;, score=0.923 total time= 1.4min\n",
      "[CV 4/5] END ..........batch_size=10, epochs=50;, score=0.946 total time= 1.4min\n",
      "[CV 5/5] END ..........batch_size=10, epochs=50;, score=0.697 total time= 1.4min\n",
      "[CV 1/5] END .........batch_size=10, epochs=100;, score=0.946 total time= 2.8min\n",
      "[CV 2/5] END .........batch_size=10, epochs=100;, score=0.695 total time= 2.8min\n",
      "[CV 3/5] END .........batch_size=10, epochs=100;, score=0.702 total time= 2.8min\n",
      "[CV 4/5] END .........batch_size=10, epochs=100;, score=0.953 total time= 2.8min\n",
      "[CV 5/5] END .........batch_size=10, epochs=100;, score=0.697 total time= 3.1min\n",
      "[CV 1/5] END ..........batch_size=20, epochs=10;, score=0.924 total time=  10.0s\n",
      "[CV 2/5] END ..........batch_size=20, epochs=10;, score=0.932 total time=  11.4s\n",
      "[CV 3/5] END ..........batch_size=20, epochs=10;, score=0.702 total time=  10.6s\n",
      "[CV 4/5] END ..........batch_size=20, epochs=10;, score=0.948 total time=  10.5s\n"
     ]
    }
   ],
   "source": [
    "grid = GridSearchCV(estimator = model_1, param_grid = param_grid,cv = KFold(),verbose =5)\n",
    "grid_result = grid.fit(x_train,y_train)"
   ]
  },
  {
   "cell_type": "code",
   "execution_count": null,
   "id": "a789db1b",
   "metadata": {},
   "outputs": [],
   "source": []
  }
 ],
 "metadata": {
  "kernelspec": {
   "display_name": "Python 3",
   "language": "python",
   "name": "python3"
  },
  "language_info": {
   "codemirror_mode": {
    "name": "ipython",
    "version": 3
   },
   "file_extension": ".py",
   "mimetype": "text/x-python",
   "name": "python",
   "nbconvert_exporter": "python",
   "pygments_lexer": "ipython3",
   "version": "3.8.8"
  }
 },
 "nbformat": 4,
 "nbformat_minor": 5
}
